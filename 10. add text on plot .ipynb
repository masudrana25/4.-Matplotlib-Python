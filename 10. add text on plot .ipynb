{
 "cells": [
  {
   "cell_type": "code",
   "execution_count": 1,
   "metadata": {},
   "outputs": [],
   "source": [
    "import matplotlib.pyplot as plt "
   ]
  },
  {
   "cell_type": "code",
   "execution_count": 2,
   "metadata": {},
   "outputs": [],
   "source": [
    "n1 = [1,2,3,4,5,6,7,8,9]\n",
    "n2 =[9,8,7,6,5,4,3,2,1]"
   ]
  },
  {
   "cell_type": "markdown",
   "metadata": {},
   "source": [
    "Add normal text at any position"
   ]
  },
  {
   "cell_type": "code",
   "execution_count": null,
   "metadata": {},
   "outputs": [],
   "source": [
    "plt.plot(n1,n2)\n",
    "plt.title('n2 vs n1 graph') ; plt.xlabel( 'x1 value') ; plt.ylabel('n2 value')\n",
    "# this is (2,2) position in the graph which laft-buttom corner starts from (2,2)\n",
    "plt.text(2,2,'this is (2,2) position )', fontsize = 15, style = 'italic')\n",
    "plt.show()"
   ]
  },
  {
   "cell_type": "markdown",
   "metadata": {},
   "source": [
    "Add specific arrow with text in a specific position "
   ]
  },
  {
   "cell_type": "markdown",
   "metadata": {},
   "source": [
    "Arrow Add => \n",
    "plt.annotate('arrow_text', xy= (arrow_tir_sign_er_position), \n",
    "xytext=(arrow_er_back_side_er_text_er_position), arrowprops=dict(facecolor = 'black',shrink = 100))"
   ]
  },
  {
   "cell_type": "code",
   "execution_count": null,
   "metadata": {},
   "outputs": [],
   "source": [
    "plt.plot(n1,n2)\n",
    "plt.title('n2 vs n1 graph') ; plt.xlabel( 'x1 value') ; plt.ylabel('n2 value')\n",
    "plt.text(2,2,'this is (2,2) position )', fontsize = 15, style = 'italic', color = 'r', bbox ={'facecolor' : 'black'})\n",
    "plt.annotate('Python', xy= (3,3), xytext=(5,5), arrowprops=dict(facecolor = 'black',shrink = 100))\n",
    "plt.show()"
   ]
  }
 ],
 "metadata": {
  "kernelspec": {
   "display_name": "Python 3",
   "language": "python",
   "name": "python3"
  },
  "language_info": {
   "codemirror_mode": {
    "name": "ipython",
    "version": 3
   },
   "file_extension": ".py",
   "mimetype": "text/x-python",
   "name": "python",
   "nbconvert_exporter": "python",
   "pygments_lexer": "ipython3",
   "version": "3.12.1"
  }
 },
 "nbformat": 4,
 "nbformat_minor": 2
}
