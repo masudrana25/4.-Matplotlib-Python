{
 "cells": [
  {
   "cell_type": "markdown",
   "metadata": {},
   "source": [
    "Line Chart Plot in Matplotlib"
   ]
  },
  {
   "cell_type": "code",
   "execution_count": null,
   "metadata": {},
   "outputs": [],
   "source": [
    "import matplotlib.pyplot as plt \n",
    "x = [1, 2, 3, 4, 5, 6, 7, 8, 9, 10, 11, 12, 13, 14, 15, 16, 17, 18, 19, 20] \n",
    "y = [5, 9, 12, 8, 15, 20, 18, 13, 10, 7, 14, 16, 22, 19, 25, 28, 24, 30, 27, 32]\n",
    "z = [7, 15, 19, 18, 25, 30, 38, 23, 20, 17, 24, 26, 32, 39, 35, 18, 14, 20, 17, 42]\n",
    "plt.xlabel('Programming Language', fontsize = 15) \n",
    "plt.ylabel( 'No. of Users', fontsize = 15) \n",
    "plt.title( ' Users vs Language Bar Chart', fontsize = 15)\n",
    "plt.plot(x,y, color='red', label = 'Temperature in January', linewidth = 2, linestyle = 'solid', marker = 'o')\n",
    "plt.plot(x,z, color='blue', label = 'Temperature in February', linewidth = 2, linestyle = 'solid', marker = '*')\n",
    "plt.axis([0,40,0,50])\n",
    "plt.legend(loc = 4)\n",
    "plt.grid( color = 'black', linestyle = 'dashed', linewidth = 2)\n",
    "plt.show()"
   ]
  }
 ],
 "metadata": {
  "kernelspec": {
   "display_name": "Python 3",
   "language": "python",
   "name": "python3"
  },
  "language_info": {
   "codemirror_mode": {
    "name": "ipython",
    "version": 3
   },
   "file_extension": ".py",
   "mimetype": "text/x-python",
   "name": "python",
   "nbconvert_exporter": "python",
   "pygments_lexer": "ipython3",
   "version": "3.12.1"
  }
 },
 "nbformat": 4,
 "nbformat_minor": 2
}
