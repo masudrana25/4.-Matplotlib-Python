{
 "cells": [
  {
   "cell_type": "markdown",
   "metadata": {},
   "source": [
    "Pie Chart Plot"
   ]
  },
  {
   "cell_type": "code",
   "execution_count": 1,
   "metadata": {},
   "outputs": [],
   "source": [
    "import matplotlib.pyplot as plt"
   ]
  },
  {
   "cell_type": "markdown",
   "metadata": {},
   "source": [
    "Data for Plot"
   ]
  },
  {
   "cell_type": "code",
   "execution_count": 11,
   "metadata": {},
   "outputs": [],
   "source": [
    "dept = ['CSE','EEE','ME','CE','BME','WRE']\n",
    "students = [120,180,195,180,30,30]"
   ]
  },
  {
   "cell_type": "markdown",
   "metadata": {},
   "source": [
    "Chart Plot => Normal"
   ]
  },
  {
   "cell_type": "code",
   "execution_count": null,
   "metadata": {},
   "outputs": [],
   "source": [
    "plt.pie(students,labels=dept)\n",
    "plt.show()"
   ]
  },
  {
   "cell_type": "markdown",
   "metadata": {},
   "source": [
    "Advance Plot"
   ]
  },
  {
   "cell_type": "code",
   "execution_count": 25,
   "metadata": {},
   "outputs": [],
   "source": [
    "explode_list = [0,0,0.1,0,0,0.4]\n",
    "color_list = ['g','r','y','blue','m','c']\n",
    "text_style = {\"fontsize\" : 15}\n",
    "edge_style = {\"linewidth\" : 4, \"width\" : 1, \"edgecolor\" :'k'}"
   ]
  },
  {
   "cell_type": "markdown",
   "metadata": {},
   "source": [
    "Chart Plot => Slice"
   ]
  },
  {
   "cell_type": "code",
   "execution_count": null,
   "metadata": {},
   "outputs": [],
   "source": [
    "plt.pie( \n",
    "  students,\n",
    "  labels = dept, \n",
    "  explode = explode_list, \n",
    "  colors = color_list, \n",
    "  autopct = '%0.1f%%', \n",
    "  radius = 1.3, \n",
    "  textprops = text_style, \n",
    "  labeldistance = 1.3,\n",
    "  wedgeprops = edge_style,\n",
    "  )\n",
    "plt.legend( loc =1)\n",
    "plt.show()"
   ]
  },
  {
   "cell_type": "markdown",
   "metadata": {},
   "source": [
    "Circular Pie Chart with many circle"
   ]
  },
  {
   "cell_type": "code",
   "execution_count": null,
   "metadata": {},
   "outputs": [],
   "source": [
    "n1 = ['r','w','r','w','r','w','r','w','r','w','r','w','r','w','r','w','r','w']\n",
    "n2 = [1,2,3,4,5,6,7,8,9,10,11,12,13,14,15,16,17,18]\n",
    "\n",
    "plt.pie([1], colors='black',radius=2)\n",
    "plt.pie(n2, colors = n1 ,radius=1.8)\n",
    "plt.pie([1], colors='g',radius=1.6)\n",
    "plt.pie([1], colors='y',radius=1.4)\n",
    "plt.pie([1], colors='c',radius=1.2)\n",
    "plt.pie([1], colors='blue',radius=1.0)\n",
    "plt.pie([1], colors='m',radius=0.6)\n",
    "plt.pie([1], colors='blue',radius=0.4)\n",
    "plt.pie(n2, colors=n1,radius=0.37)\n",
    "plt.pie([1], colors='w',radius=0.2)\n",
    "plt.pie([1], colors='k',radius=0.1)\n",
    "plt.show()"
   ]
  }
 ],
 "metadata": {
  "kernelspec": {
   "display_name": "Python 3",
   "language": "python",
   "name": "python3"
  },
  "language_info": {
   "codemirror_mode": {
    "name": "ipython",
    "version": 3
   },
   "file_extension": ".py",
   "mimetype": "text/x-python",
   "name": "python",
   "nbconvert_exporter": "python",
   "pygments_lexer": "ipython3",
   "version": "3.12.1"
  }
 },
 "nbformat": 4,
 "nbformat_minor": 2
}
