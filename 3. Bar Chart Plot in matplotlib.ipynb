{
 "cells": [
  {
   "cell_type": "markdown",
   "id": "3c6232cc",
   "metadata": {},
   "source": [
    "Bar Chart Plot in Matplotlib"
   ]
  },
  {
   "cell_type": "code",
   "execution_count": null,
   "id": "74240a28-ac41-43a0-baaf-27fb67c847f2",
   "metadata": {},
   "outputs": [],
   "source": [
    "import matplotlib.pyplot as plt \n",
    "x = [ 'python' , 'c' , 'c++', 'java'] ; y = [80,70,75,83]\n",
    "plt.xlabel('Programming Language', fontsize = 15) \n",
    "plt.ylabel( 'No. of Users', fontsize = 15) \n",
    "plt.title( ' Users vs Language Bar Chart', fontsize = 15)\n",
    "color_name = [ 'r', 'y' , 'b' , 'g' ]\n",
    "plt.bar(x,y, width = 0.4, color = color_name)\n",
    "plt.show()"
   ]
  },
  {
   "cell_type": "markdown",
   "id": "5f468230",
   "metadata": {},
   "source": [
    "Position change of x-axis Value with respect to the bar position"
   ]
  },
  {
   "cell_type": "code",
   "execution_count": null,
   "id": "dac1ee7a-0ecf-4801-a718-788996beb77f",
   "metadata": {},
   "outputs": [],
   "source": [
    "import matplotlib.pyplot as plt\n",
    "x1 = [ 'python' , 'c' , 'c++', 'java'] ; y1 = [80,70,75,83]\n",
    "plt.xlabel('Programming Language', fontsize = 15) \n",
    "plt.ylabel('No. of Users', fontsize = 15) \n",
    "plt.title('Users vs Language Bar Chart', fontsize = 15)\n",
    "color_name1 = [ 'r', 'y' , 'b' , 'g' ]\n",
    "plt.bar(x1,y1, width = 0.4, color = color_name1, align = 'edge' ) \n",
    "# x-axis value will be start from the starting edge of bar\n",
    "plt.show()"
   ]
  },
  {
   "cell_type": "markdown",
   "id": "6548d28c-359f-4d8a-ba97-e0a2fdc1425b",
   "metadata": {},
   "source": [
    "Style of Bar Chart"
   ]
  },
  {
   "cell_type": "code",
   "execution_count": null,
   "id": "cbf7bbaa",
   "metadata": {},
   "outputs": [],
   "source": [
    "import matplotlib.pyplot as plt\n",
    "x1 = [ 'python' , 'c' , 'c++', 'java'] ; y1 = [80,70,75,83]\n",
    "plt.xlabel('Programming Language', fontsize = 15) \n",
    "plt.ylabel('No. of Users', fontsize = 15) \n",
    "plt.title('Users vs Language Bar Chart', fontsize = 15)\n",
    "color_name1 = [ 'black', 'y' , 'b' , 'g' ]\n",
    "plt.bar(x1,y1, width=0.4, color=color_name1, edgecolor ='red', linewidth=5, linestyle =':' )\n",
    "plt.show()"
   ]
  },
  {
   "cell_type": "markdown",
   "id": "977f1aa4",
   "metadata": {},
   "source": [
    "Blur the bar diagram"
   ]
  },
  {
   "cell_type": "code",
   "execution_count": null,
   "id": "26b4c7d2",
   "metadata": {},
   "outputs": [],
   "source": [
    "import matplotlib.pyplot as plt\n",
    "x1 = [ 'python' , 'c' , 'c++', 'java'] ; y1 = [80,70,75,83]\n",
    "plt.xlabel('Programming Language', fontsize = 15) \n",
    "plt.ylabel('No. of Users', fontsize = 15) \n",
    "plt.title('Users vs Language Bar Chart', fontsize = 15)\n",
    "color_name1 = [ 'black', 'y' , 'b' , 'g' ]\n",
    "plt.bar(x1,y1, width=0.4, color=color_name1, edgecolor ='red', linewidth=5, linestyle =':', alpha =0.7 )\n",
    "plt.show()"
   ]
  },
  {
   "cell_type": "markdown",
   "id": "ef03c0ba",
   "metadata": {},
   "source": [
    "Add Legend"
   ]
  },
  {
   "cell_type": "code",
   "execution_count": null,
   "id": "95deae6b",
   "metadata": {},
   "outputs": [],
   "source": [
    "import matplotlib.pyplot as plt\n",
    "x1 = [ 'python' , 'c' , 'c++', 'java'] ; y1 = [80,70,75,83]\n",
    "plt.xlabel('Programming Language', fontsize = 15) \n",
    "plt.ylabel('No. of Users', fontsize = 15) \n",
    "plt.title('Users vs Language Bar Chart', fontsize = 15)\n",
    "plt.bar(x1,y1, width=0.4, color='blue', label = 'Popularity' )\n",
    "plt.legend()\n",
    "plt.show()"
   ]
  },
  {
   "cell_type": "markdown",
   "id": "e085a026",
   "metadata": {},
   "source": [
    "Multiple Bar chart in one Graph with Legend"
   ]
  },
  {
   "cell_type": "code",
   "execution_count": null,
   "id": "6550b9b7",
   "metadata": {},
   "outputs": [],
   "source": [
    "import matplotlib.pyplot as plt\n",
    "import numpy as np\n",
    "x1 = [ 'python' , 'c' , 'c++', 'java'] ; y1 = [80,70,75,83] ; z1 = [20,34,67,54]\n",
    "x_values = np.arange(len(x1))\n",
    "bar_width = 0.4 \n",
    "\n",
    "plt.xlabel('Programming Language', fontsize = 15) \n",
    "plt.ylabel('No. of Users', fontsize = 15) \n",
    "plt.title('Users vs Language Bar Chart', fontsize = 15)\n",
    "plt.ylim(0,100)\n",
    "plt.bar((x_values - bar_width/2),y1, width=bar_width, color='blue', label = 'Popularity_1' )\n",
    "plt.bar((x_values + bar_width/2),z1, width=bar_width, color='y', label = 'Popularity_2' )\n",
    "plt.xticks(x_values, x1)\n",
    "plt.legend()\n",
    "plt.show()"
   ]
  },
  {
   "cell_type": "markdown",
   "id": "c348fd8f",
   "metadata": {},
   "source": [
    "Plot 3 bar in One"
   ]
  },
  {
   "cell_type": "code",
   "execution_count": null,
   "id": "d2ca19d1",
   "metadata": {},
   "outputs": [],
   "source": [
    "import matplotlib.pyplot as plt\n",
    "import numpy as np\n",
    "x1 = [ 'python' , 'c' , 'c++', 'java'] ; y1 = [80,70,75,83] ; z1 = [20,34,67,54] ; w1 = [28,44,57,24]\n",
    "x_values = np.arange(len(x1))\n",
    "bar_width = 0.2 \n",
    "# if overlap bar or congested each other , then decrease the bar width\n",
    "\n",
    "plt.xlabel('Programming Language', fontsize = 15) \n",
    "plt.ylabel('No. of Users', fontsize = 15) \n",
    "plt.title('Users vs Language Bar Chart', fontsize = 15)\n",
    "plt.ylim(0,100)\n",
    "\n",
    "plt.bar(x_values - bar_width, y1, width=bar_width, color='blue', label = 'Popularity_1' )\n",
    "plt.bar(x_values , z1, width=bar_width, color='y', label = 'Popularity_2' )\n",
    "plt.bar(x_values + bar_width , w1, width=bar_width, color='r', label = 'Popularity_3' )\n",
    "\n",
    "plt.xticks(x_values, x1)\n",
    "plt.legend()\n",
    "plt.show()"
   ]
  },
  {
   "cell_type": "markdown",
   "id": "2827d647",
   "metadata": {},
   "source": [
    "Horizontal Bar Chart"
   ]
  },
  {
   "cell_type": "code",
   "execution_count": null,
   "id": "e4ee62e8",
   "metadata": {},
   "outputs": [],
   "source": [
    "import matplotlib.pyplot as plt\n",
    "import numpy as np\n",
    "x1 = [ 'python' , 'c' , 'c++', 'java'] ; y1 = [80,70,75,83] ; z1 = [20,34,67,54] ; w1 = [28,44,57,24]\n",
    "x_values = np.arange(len(x1))\n",
    "bar_width = 0.2 \n",
    "# if overlap bar or congested each other , then decrease the bar width\n",
    "\n",
    "plt.xlabel('Programming Language', fontsize = 15) \n",
    "plt.ylabel('No. of Users', fontsize = 15) \n",
    "plt.title('Users vs Language Bar Chart', fontsize = 15)\n",
    "plt.xlim(0,120)\n",
    "\n",
    "plt.barh(x_values - bar_width, y1, bar_width, color='blue', label = 'Popularity_1' )\n",
    "plt.barh(x_values , z1, bar_width, color='y', label = 'Popularity_2' )\n",
    "plt.barh(x_values + bar_width , w1, bar_width, color='r', label = 'Popularity_3' )\n",
    "\n",
    "plt.yticks(x_values, x1)\n",
    "plt.legend()\n",
    "plt.show()"
   ]
  }
 ],
 "metadata": {
  "kernelspec": {
   "display_name": "Python 3 (ipykernel)",
   "language": "python",
   "name": "python3"
  },
  "language_info": {
   "codemirror_mode": {
    "name": "ipython",
    "version": 3
   },
   "file_extension": ".py",
   "mimetype": "text/x-python",
   "name": "python",
   "nbconvert_exporter": "python",
   "pygments_lexer": "ipython3",
   "version": "3.12.1"
  }
 },
 "nbformat": 4,
 "nbformat_minor": 5
}
