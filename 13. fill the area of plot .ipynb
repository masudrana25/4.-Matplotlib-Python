{
 "cells": [
  {
   "cell_type": "markdown",
   "metadata": {},
   "source": [
    "Fill the Area of a Plot"
   ]
  },
  {
   "cell_type": "code",
   "execution_count": 20,
   "metadata": {},
   "outputs": [],
   "source": [
    "import matplotlib.pyplot as plt \n",
    "import numpy as np"
   ]
  },
  {
   "cell_type": "markdown",
   "metadata": {},
   "source": [
    "data for plot"
   ]
  },
  {
   "cell_type": "code",
   "execution_count": 21,
   "metadata": {},
   "outputs": [],
   "source": [
    "n1 =np.array([1,2,3,4,5])  ; n2 = np.array([1,2,3,4,5]) ; n3 = np.array([2,4,3,1,5])"
   ]
  },
  {
   "cell_type": "code",
   "execution_count": null,
   "metadata": {},
   "outputs": [],
   "source": [
    "plt.plot(n1,n2, color = 'r')\n",
    "plt.fill_between(n1,n2, color='g')\n",
    "# graph er nich a x and y er sob value gular jonno fill korbey\n",
    "plt.grid()\n",
    "plt.show()"
   ]
  },
  {
   "cell_type": "code",
   "execution_count": null,
   "metadata": {},
   "outputs": [],
   "source": [
    "plt.plot(n1,n2, color = 'r')\n",
    "plt.fill_between(x=[2,4],y1=2, color= 'g')\n",
    "# x => 2 to 4 and y= 0 to 2 porjonto fill korbey \n",
    "plt.grid()\n",
    "plt.show()"
   ]
  },
  {
   "cell_type": "code",
   "execution_count": null,
   "metadata": {},
   "outputs": [],
   "source": [
    "plt.plot(n1,n2, color = 'r')\n",
    "plt.fill_between(x=[2,4],y1=2,y2=4, color='g')\n",
    "# x => 2 to 4 and y= 2 to 4 porjonto fill korbey \n",
    "plt.grid()\n",
    "plt.show()"
   ]
  },
  {
   "cell_type": "code",
   "execution_count": null,
   "metadata": {},
   "outputs": [],
   "source": [
    "plt.plot(n1,n2, color = 'r')\n",
    "plt.fill_between(n1,n2, color='g', where=(n1>=2) & (n2<=4))\n",
    "# condition apply er jonno must numpy array use kortey hobey, normal list a condition apply kora jai na\n",
    "# graph er nichey x => 2 to 4 porjonto fill korbey \n",
    "plt.grid()\n",
    "plt.show()"
   ]
  },
  {
   "cell_type": "code",
   "execution_count": null,
   "metadata": {},
   "outputs": [],
   "source": [
    "plt.plot(n1,n2, color = 'r')\n",
    "plt.fill_between(n1,n2, color='g', where=(n1>=2) & (n2<=4), alpha = 0.5)\n",
    "# condition apply er jonno must numpy array use kortey hobey, normal list a condition apply kora jai na\n",
    "# graph er nichey x => 2 to 4 porjonto fill korbey \n",
    "plt.grid()\n",
    "plt.show()"
   ]
  }
 ],
 "metadata": {
  "kernelspec": {
   "display_name": "Python 3",
   "language": "python",
   "name": "python3"
  },
  "language_info": {
   "codemirror_mode": {
    "name": "ipython",
    "version": 3
   },
   "file_extension": ".py",
   "mimetype": "text/x-python",
   "name": "python",
   "nbconvert_exporter": "python",
   "pygments_lexer": "ipython3",
   "version": "3.12.1"
  }
 },
 "nbformat": 4,
 "nbformat_minor": 2
}
