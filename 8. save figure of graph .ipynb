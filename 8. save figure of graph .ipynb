{
 "cells": [
  {
   "cell_type": "markdown",
   "metadata": {},
   "source": [
    "Save Plotting Figure with Any formate"
   ]
  },
  {
   "cell_type": "code",
   "execution_count": 12,
   "metadata": {},
   "outputs": [],
   "source": [
    "import matplotlib.pyplot as plt \n",
    "import numpy as np\n",
    "import pandas as pd "
   ]
  },
  {
   "cell_type": "code",
   "execution_count": null,
   "metadata": {},
   "outputs": [],
   "source": [
    "n1 = [1,2,3,4,5,6,7,8]"
   ]
  },
  {
   "cell_type": "markdown",
   "metadata": {},
   "source": [
    "Basic Save as png format"
   ]
  },
  {
   "cell_type": "code",
   "execution_count": null,
   "metadata": {},
   "outputs": [],
   "source": [
    "plt.pie(n1)\n",
    "\n",
    "# plt.show()  er agei file save korty hobey.\n",
    "# default png formate a save hobey\n",
    "plt.savefig('Pie Chart')\n",
    "\n",
    "# plt.show() => ai function k sob last a ditey hoby\n",
    "plt.show()\n"
   ]
  },
  {
   "cell_type": "markdown",
   "metadata": {},
   "source": [
    "Advance Save Plot "
   ]
  },
  {
   "cell_type": "markdown",
   "metadata": {},
   "source": [
    "dpi = resulations  => high resulations"
   ]
  },
  {
   "cell_type": "code",
   "execution_count": null,
   "metadata": {},
   "outputs": [],
   "source": [
    "plt.pie(n1) \n",
    "plt.savefig('Pie chart 2', dpi = 1000, facecolor = 'g')\n",
    "plt.show()"
   ]
  },
  {
   "cell_type": "markdown",
   "metadata": {},
   "source": [
    "dpi = resulations  => low resulations"
   ]
  },
  {
   "cell_type": "code",
   "execution_count": null,
   "metadata": {},
   "outputs": [],
   "source": [
    "plt.pie(n1) \n",
    "plt.savefig('Pie chart 3', dpi = 100, facecolor = 'g')\n",
    "plt.show()"
   ]
  },
  {
   "cell_type": "markdown",
   "metadata": {},
   "source": [
    "other format "
   ]
  },
  {
   "cell_type": "code",
   "execution_count": null,
   "metadata": {},
   "outputs": [],
   "source": [
    "plt.pie(n1) \n",
    "plt.savefig('Pie chart 3.pdf', dpi = 100, facecolor = 'g')\n",
    "plt.show()"
   ]
  },
  {
   "cell_type": "markdown",
   "metadata": {},
   "source": [
    "sub-plot save as image"
   ]
  },
  {
   "cell_type": "markdown",
   "metadata": {},
   "source": [
    "sub-plot data"
   ]
  },
  {
   "cell_type": "code",
   "execution_count": 15,
   "metadata": {},
   "outputs": [],
   "source": [
    "n1 = [1,2,3,4,5] ; n2 = [22,344,66,78,79]\n",
    "age_1 = np.random.randint(15,30, (100)) \n",
    "age_2 = np.random.randint(15,35, (100))\n",
    "\n",
    "df_google_Play_store_apps_1000 = pd.read_csv(\"./Data/Data 1/googleplaystore.csv\",nrows=1000)\n",
    "x = df_google_Play_store_apps_1000[\"Rating\"]\n",
    "y = df_google_Play_store_apps_1000[\"Reviews\"]\n",
    "z = df_google_Play_store_apps_1000[\"Installs\"]\n",
    "\n",
    "dept = ['CSE','EEE','ME','CE','BME','WRE']\n",
    "students = [120,180,195,180,30,30]\n",
    "explode_list = [0,0,0.1,0,0,0.4]\n",
    "color_list = ['g','r','y','blue','m','c']\n",
    "text_style = {\"fontsize\" : 15}\n",
    "edge_style = {\"linewidth\" : 4, \"width\" : 1, \"edgecolor\" :'k'}"
   ]
  },
  {
   "cell_type": "markdown",
   "metadata": {},
   "source": [
    "sub-plot code"
   ]
  },
  {
   "cell_type": "code",
   "execution_count": null,
   "metadata": {},
   "outputs": [],
   "source": [
    "plt.figure(figsize=(20,16))\n",
    "\n",
    "#### sub-plot-1\n",
    "plt.subplot(3,2,1)\n",
    "x = [1, 2, 3, 4, 5, 6, 7, 8, 9, 10, 11, 12, 13, 14, 15, 16, 17, 18, 19, 20] \n",
    "y = [5, 9, 12, 8, 15, 20, 18, 13, 10, 7, 14, 16, 22, 19, 25, 28, 24, 30, 27, 32]\n",
    "z = [7, 15, 19, 18, 25, 30, 38, 23, 20, 17, 24, 26, 32, 39, 35, 18, 14, 20, 17, 42]\n",
    "plt.xlabel('Programming Language', fontsize = 15) \n",
    "plt.ylabel( 'No. of Users', fontsize = 15) \n",
    "plt.title( ' Users vs Language Bar Chart', fontsize = 15)\n",
    "plt.plot(x,y, color='red', label = 'Temperature in January', linewidth = 2, linestyle = 'solid', marker = 'o')\n",
    "plt.plot(x,z, color='blue', label = 'Temperature in February', linewidth = 2, linestyle = 'solid', marker = '*')\n",
    "plt.axis([0,40,0,50])\n",
    "plt.legend(loc = 4)\n",
    "plt.grid( color = 'black', linestyle = 'dashed', linewidth = 2)\n",
    "\n",
    "#### sub-plot-2\n",
    "plt.subplot(3,2,2)\n",
    "x1 = [ 'python' , 'c' , 'c++', 'java'] ; y1 = [80,70,75,83] ; z1 = [20,34,67,54] ; w1 = [28,44,57,24]\n",
    "x_values = np.arange(len(x1))\n",
    "bar_width = 0.2 \n",
    "# if overlap bar or congested each other , then decrease the bar width\n",
    "\n",
    "plt.xlabel('Programming Language', fontsize = 15) \n",
    "plt.ylabel('No. of Users', fontsize = 15) \n",
    "plt.title('Users vs Language Bar Chart', fontsize = 15)\n",
    "plt.ylim(0,100)\n",
    "\n",
    "plt.bar(x_values - bar_width, y1, width=bar_width, color='blue', label = 'Popularity_1' )\n",
    "plt.bar(x_values , z1, width=bar_width, color='y', label = 'Popularity_2' )\n",
    "plt.bar(x_values + bar_width , w1, width=bar_width, color='r', label = 'Popularity_3' )\n",
    "\n",
    "plt.xticks(x_values, x1)\n",
    "plt.legend()\n",
    "\n",
    "\n",
    "#### sub-plot-3\n",
    "plt.subplot(3,2,3)\n",
    "bins_data = [15,20,25,30,35]\n",
    "\n",
    "plt.hist([age_1,age_2],color = ['red','y'], orientation='vertical', align='mid', rwidth=0.8, bins = bins_data, histtype='bar', label=['Age 1','Age 2'] )\n",
    "\n",
    "plt.xticks(bins_data)\n",
    "plt.legend()\n",
    "\n",
    "\n",
    "#### sub-plot-4\n",
    "plt.subplot(3,2,4)\n",
    "plt.scatter(x,y,color = 'r',marker='*', s = 130, alpha=0.7, linewidths=5, edgecolors='g', label='Review vs Rating')\n",
    "plt.scatter(x,z,color = 'y',marker='o', s = 130, alpha=0.7, linewidths=5, edgecolors='b',label='Installs vs Rating')\n",
    "plt.title('Goggle Play Store Scattered Plot')\n",
    "plt.xlabel('App Ratting')\n",
    "plt.ylabel('App Review & Installs')\n",
    "plt.legend()\n",
    "\n",
    "\n",
    "#### sub-plot-5\n",
    "plt.subplot(3,2,5)\n",
    "plt.pie( \n",
    "  students,\n",
    "  labels = dept, \n",
    "  explode = explode_list, \n",
    "  colors = color_list, \n",
    "  autopct = '%0.1f%%', \n",
    "  radius = 1.3, \n",
    "  textprops = text_style, \n",
    "  labeldistance = 1.3,\n",
    "  wedgeprops = edge_style,\n",
    "  )\n",
    "plt.legend( loc =1)\n",
    "\n",
    "\n",
    "#### sub-plot-6\n",
    "plt.subplot(3,2,6, projection='polar', facecolor = 'k')\n",
    "\n",
    "plt.savefig('sub-plot of 6 figure print as png', dpi = 1000)\n",
    "\n",
    "plt.show()"
   ]
  }
 ],
 "metadata": {
  "kernelspec": {
   "display_name": "Python 3",
   "language": "python",
   "name": "python3"
  },
  "language_info": {
   "codemirror_mode": {
    "name": "ipython",
    "version": 3
   },
   "file_extension": ".py",
   "mimetype": "text/x-python",
   "name": "python",
   "nbconvert_exporter": "python",
   "pygments_lexer": "ipython3",
   "version": "3.12.1"
  }
 },
 "nbformat": 4,
 "nbformat_minor": 2
}
